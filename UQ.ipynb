{
 "cells": [
  {
   "cell_type": "code",
   "execution_count": 1,
   "id": "c5a75ca6-7be7-46c1-8635-58adb4e66016",
   "metadata": {},
   "outputs": [],
   "source": [
    "import numpy as np\n",
    "import matplotlib.pyplot as plt\n",
    "\n",
    "\n",
    "b=0.1 # taxa média de contatos \n",
    "sig = 0.01 # desvio da taxa de contatos \n",
    "shape = b**2/sig**2 # parametro de forma da gamma\n",
    "scale = sig**2/b # parametro de escala da gamma\n",
    "ate=600 # tempo de simulação\n",
    "v = 1/14 # taxa média de contatos \n",
    "cv = v**2*9 \n",
    "# parametros da distribuição beta \n",
    "abeta = (v/cv)*(1/v-cv-1) \n",
    "bbeta = abeta*(1/v-1)\n",
    "N=3.885*10**6 # população \n",
    "\n"
   ]
  },
  {
   "cell_type": "code",
   "execution_count": 2,
   "id": "6b3b1d3f-2140-4d37-831a-7a97f0543a06",
   "metadata": {},
   "outputs": [],
   "source": [
    "#%matplotlib\n",
    "num=10000 # numero de simulações \n",
    "# requisição de memória\n",
    "se = N*np.ones([num,ate]) # suscetiveis\n",
    "ie = np.zeros([num,ate]) # infectados\n",
    "be = np.zeros([num,ate]) # salvar as amostras da distribuição\n",
    "ve = np.zeros([num,ate]) # salvar as amostras da distribuição\n",
    "hme = np.zeros([num,ate]) # novos infectados\n",
    "\n",
    "for k in range(0,num):\n",
    "    ie[k][0] = 20 # condição inicial\n",
    "    se[k][0] =  N-ie[k][0] # condição inicial\n",
    "    for t in range(1,ate):\n",
    "        be[k][t] = np.random.gamma(shape,scale) # instância da gamma \n",
    "        ve[k][t] = np.random.beta(abeta,bbeta) # instância da gamma \n",
    "        hme[k][t]=be[k][t]*se[k][t-1]*ie[k][t-1]/N # novos casos\n",
    "        se[k][t]=se[k][t-1]-hme[k][t] # fluxo dos suscetíveis \n",
    "        ie[k][t]=(1-ve[k][t])*ie[k][t-1]+hme[k][t] # fluxo dos infectados\n"
   ]
  },
  {
   "cell_type": "code",
   "execution_count": 3,
   "id": "3f3d5d8f-9042-4dd2-8917-2e7b33b63cc2",
   "metadata": {},
   "outputs": [],
   "source": [
    "# padrão de plotagem dos gráficos\n",
    "def plotfilt(x,y,ax):\n",
    "    ax.plot(x,y.mean(axis=0),'b',linewidth=1.0)\n",
    "    al = [0.5, 0.75, 0.75, 0.5] # niveis de transparência\n",
    "    quan = [0.05,0.5,0.95,1] # seperação em quantis 5% 50% 95% 100% dos dados\n",
    "    ya = np.quantile(y, 0, axis=0)\n",
    "    for k in range(1,5):\n",
    "        yp = np.quantile(y, quan[k-1], axis=0)\n",
    "        ax.fill_between(x,ya,yp, alpha=al[k-1],color='black')\n",
    "        ya[:] = yp[:]\n",
    "    "
   ]
  },
  {
   "cell_type": "code",
   "execution_count": 4,
   "id": "594431a6-6c8f-43e3-994d-52be0831bba9",
   "metadata": {},
   "outputs": [
    {
     "name": "stdout",
     "output_type": "stream",
     "text": [
      "Using matplotlib backend: Qt5Agg\n"
     ]
    }
   ],
   "source": [
    "%matplotlib # para abrir em janela separada"
   ]
  },
  {
   "cell_type": "code",
   "execution_count": 5,
   "id": "d335a09f-797f-4c5b-9cf1-538c4fa76856",
   "metadata": {},
   "outputs": [],
   "source": [
    "\n",
    "fig= plt.figure(2)\n",
    "posi=378 # instatne que é mostrado o histograma\n"
   ]
  },
  {
   "cell_type": "code",
   "execution_count": 6,
   "id": "7c5f1cd9-aaa4-4183-9d02-d5243a3fac0f",
   "metadata": {},
   "outputs": [
    {
     "data": {
      "text/plain": [
       "[<matplotlib.lines.Line2D at 0x7f532114d430>]"
      ]
     },
     "execution_count": 6,
     "metadata": {},
     "output_type": "execute_result"
    }
   ],
   "source": [
    "\n",
    "ax = fig.add_subplot(2,2,1)\n",
    "ax.set_ylabel('Suscetíveis')\n",
    "ax.set_xlabel('Tempo (dias)')\n",
    "plotfilt(np.arange(0,ate),se,ax)\n",
    "ax.plot([posi,posi],[se.T[posi].min(), se.T[posi].max()],'r') # região do histograma"
   ]
  },
  {
   "cell_type": "code",
   "execution_count": 7,
   "id": "de251174-62b4-42b3-9168-e71109ea0d95",
   "metadata": {},
   "outputs": [
    {
     "data": {
      "text/plain": [
       "[<matplotlib.lines.Line2D at 0x7f532111f310>]"
      ]
     },
     "execution_count": 7,
     "metadata": {},
     "output_type": "execute_result"
    }
   ],
   "source": [
    "\n",
    "ax = fig.add_subplot(2,2,2)\n",
    "ax.set_ylabel('Infecados')\n",
    "ax.set_xlabel('Tempo (dias)')\n",
    "plotfilt(np.arange(0,ate),ie,ax)\n",
    "ax.plot([posi,posi],[ie.T[posi].min(), ie.T[posi].max()],'r')# região do histograma"
   ]
  },
  {
   "cell_type": "code",
   "execution_count": 8,
   "id": "3fa5ca41-66da-4f36-b4cd-0f161cc9da79",
   "metadata": {},
   "outputs": [
    {
     "data": {
      "text/plain": [
       "(array([  3.,   1.,   6.,  13.,  13.,  21.,  25.,  33.,  41.,  67.,  99.,\n",
       "        123., 140., 163., 231., 325., 337., 381., 427., 492., 507., 538.,\n",
       "        582., 564., 581., 584., 549., 499., 442., 403., 371., 281., 256.,\n",
       "        243., 158., 124., 118.,  81.,  55.,  40.,  31.,  17.,  18.,  10.,\n",
       "          4.,   1.,   1.,   0.,   0.,   1.]),\n",
       " array([2303628.13924667, 2323298.06162637, 2342967.98400608,\n",
       "        2362637.90638579, 2382307.8287655 , 2401977.75114521,\n",
       "        2421647.67352492, 2441317.59590463, 2460987.51828433,\n",
       "        2480657.44066404, 2500327.36304375, 2519997.28542346,\n",
       "        2539667.20780317, 2559337.13018288, 2579007.05256259,\n",
       "        2598676.97494229, 2618346.897322  , 2638016.81970171,\n",
       "        2657686.74208142, 2677356.66446113, 2697026.58684084,\n",
       "        2716696.50922054, 2736366.43160025, 2756036.35397996,\n",
       "        2775706.27635967, 2795376.19873938, 2815046.12111909,\n",
       "        2834716.0434988 , 2854385.9658785 , 2874055.88825821,\n",
       "        2893725.81063792, 2913395.73301763, 2933065.65539734,\n",
       "        2952735.57777705, 2972405.50015675, 2992075.42253646,\n",
       "        3011745.34491617, 3031415.26729588, 3051085.18967559,\n",
       "        3070755.1120553 , 3090425.03443501, 3110094.95681471,\n",
       "        3129764.87919442, 3149434.80157413, 3169104.72395384,\n",
       "        3188774.64633355, 3208444.56871326, 3228114.49109297,\n",
       "        3247784.41347267, 3267454.33585238, 3287124.25823209]),\n",
       " <BarContainer object of 50 artists>)"
      ]
     },
     "execution_count": 8,
     "metadata": {},
     "output_type": "execute_result"
    }
   ],
   "source": [
    "ax = fig.add_subplot(2,2,3)\n",
    "ax.set_ylabel('Histograma de um instante dos suscetíveis')\n",
    "ax.hist(se.T[posi][0:],50,color='red') # plota histograma\n",
    "#plotfilt(np.arange(0,ate),be,ax)"
   ]
  },
  {
   "cell_type": "code",
   "execution_count": 9,
   "id": "0c133ec8-188c-412a-a15d-f91d7a0294f4",
   "metadata": {},
   "outputs": [
    {
     "data": {
      "text/plain": [
       "(array([  1.,   0.,   0.,   0.,   2.,   1.,   3.,   6.,  21.,  27.,  40.,\n",
       "         73., 111., 131., 180., 219., 290., 398., 454., 478., 565., 601.,\n",
       "        608., 655., 717., 632., 595., 524., 492., 459., 358., 301., 238.,\n",
       "        198., 165., 118., 102.,  59.,  61.,  36.,  34.,  16.,   6.,  11.,\n",
       "          6.,   3.,   1.,   2.,   1.,   1.]),\n",
       " array([ 97727.70111263, 100883.61356001, 104039.5260074 , 107195.43845478,\n",
       "        110351.35090216, 113507.26334954, 116663.17579692, 119819.0882443 ,\n",
       "        122975.00069168, 126130.91313906, 129286.82558644, 132442.73803383,\n",
       "        135598.65048121, 138754.56292859, 141910.47537597, 145066.38782335,\n",
       "        148222.30027073, 151378.21271811, 154534.12516549, 157690.03761287,\n",
       "        160845.95006026, 164001.86250764, 167157.77495502, 170313.6874024 ,\n",
       "        173469.59984978, 176625.51229716, 179781.42474454, 182937.33719192,\n",
       "        186093.2496393 , 189249.16208668, 192405.07453407, 195560.98698145,\n",
       "        198716.89942883, 201872.81187621, 205028.72432359, 208184.63677097,\n",
       "        211340.54921835, 214496.46166573, 217652.37411311, 220808.2865605 ,\n",
       "        223964.19900788, 227120.11145526, 230276.02390264, 233431.93635002,\n",
       "        236587.8487974 , 239743.76124478, 242899.67369216, 246055.58613954,\n",
       "        249211.49858693, 252367.41103431, 255523.32348169]),\n",
       " <BarContainer object of 50 artists>)"
      ]
     },
     "execution_count": 9,
     "metadata": {},
     "output_type": "execute_result"
    }
   ],
   "source": [
    "ax = fig.add_subplot(2,2,4)\n",
    "ax.set_ylabel('Histograma de um instante dos infectados')\n",
    "ax.hist(ie.T[posi][0:],50,color='red')\n",
    "#plotfilt(np.arange(0,ate),ve,ax)"
   ]
  },
  {
   "cell_type": "code",
   "execution_count": 10,
   "id": "52ff1307-eb62-4879-93a9-13de768ab1cb",
   "metadata": {},
   "outputs": [
    {
     "data": {
      "text/plain": [
       "Text(0.5, 0, 'Amostras')"
      ]
     },
     "execution_count": 10,
     "metadata": {},
     "output_type": "execute_result"
    }
   ],
   "source": [
    "# plota evolução do segundo momento do instante final \n",
    "sigs = np.zeros(num)\n",
    "sigi = np.zeros(num)\n",
    "\n",
    "for t in range(1,num):\n",
    "    errs = (se.T[-1][t])**2 # segundo momento\n",
    "    sigs[t]=sigs[t-1]+(errs-sigs[t-1])/t # média recursiva\n",
    "    erri = (ie.T[-1][t])**2\n",
    "    sigi[t]=sigi[t-1]+(erri-sigi[t-1])/t\n",
    "\n",
    "# gera gráficos    \n",
    "fig= plt.figure(3)\n",
    "ax3=fig.add_subplot(1,2,1)\n",
    "ax3.set_ylabel('Segundo momento do instante final, suscetíveis')\n",
    "ax3.set_xlabel('Amostras')\n",
    "ax3.plot(sigs[1:-1])\n",
    "ax3=fig.add_subplot(1,2,2)\n",
    "ax3.plot(sigi[1:-1])\n",
    "ax3.set_ylabel('Segundo momento do instante final, infectados')\n",
    "ax3.set_xlabel('Amostras')\n"
   ]
  },
  {
   "cell_type": "code",
   "execution_count": null,
   "id": "ed08cab7-bae8-43b7-8e4d-c4d2669aeaef",
   "metadata": {},
   "outputs": [],
   "source": []
  },
  {
   "cell_type": "code",
   "execution_count": null,
   "id": "9d588c4f-3c81-4011-96b3-45556fc9b3fd",
   "metadata": {},
   "outputs": [],
   "source": []
  },
  {
   "cell_type": "code",
   "execution_count": null,
   "id": "3c25e487-9645-4aa9-bd4e-79db1d08c067",
   "metadata": {},
   "outputs": [],
   "source": []
  },
  {
   "cell_type": "code",
   "execution_count": null,
   "id": "97985334-b048-4082-9a14-ed0d64566f11",
   "metadata": {},
   "outputs": [],
   "source": []
  },
  {
   "cell_type": "code",
   "execution_count": null,
   "id": "2528c7fc-2a45-435e-93d4-4ba428fcf605",
   "metadata": {},
   "outputs": [],
   "source": []
  },
  {
   "cell_type": "code",
   "execution_count": null,
   "id": "e13619a2-c5f5-43dd-af55-3375b652d17e",
   "metadata": {},
   "outputs": [],
   "source": []
  },
  {
   "cell_type": "code",
   "execution_count": null,
   "id": "2e8b948f-4177-4b5b-a2ec-5fcc74f5fdac",
   "metadata": {},
   "outputs": [],
   "source": []
  },
  {
   "cell_type": "code",
   "execution_count": null,
   "id": "320b5612-7c2d-4b20-8ee5-ef53b0d4e166",
   "metadata": {},
   "outputs": [],
   "source": []
  }
 ],
 "metadata": {
  "kernelspec": {
   "display_name": "Python 3 (ipykernel)",
   "language": "python",
   "name": "python3"
  },
  "language_info": {
   "codemirror_mode": {
    "name": "ipython",
    "version": 3
   },
   "file_extension": ".py",
   "mimetype": "text/x-python",
   "name": "python",
   "nbconvert_exporter": "python",
   "pygments_lexer": "ipython3",
   "version": "3.9.7"
  }
 },
 "nbformat": 4,
 "nbformat_minor": 5
}
